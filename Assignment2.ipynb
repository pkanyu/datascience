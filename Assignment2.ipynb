{
  "nbformat": 4,
  "nbformat_minor": 0,
  "metadata": {
    "colab": {
      "provenance": [],
      "authorship_tag": "ABX9TyMMaBr2WKYnjTWcxHljXQFx",
      "include_colab_link": true
    },
    "kernelspec": {
      "name": "python3",
      "display_name": "Python 3"
    },
    "language_info": {
      "name": "python"
    }
  },
  "cells": [
    {
      "cell_type": "markdown",
      "metadata": {
        "id": "view-in-github",
        "colab_type": "text"
      },
      "source": [
        "<a href=\"https://colab.research.google.com/github/pkanyu/datascience/blob/main/Assignment2.ipynb\" target=\"_parent\"><img src=\"https://colab.research.google.com/assets/colab-badge.svg\" alt=\"Open In Colab\"/></a>"
      ]
    },
    {
      "cell_type": "code",
      "execution_count": null,
      "metadata": {
        "colab": {
          "base_uri": "https://localhost:8080/",
          "height": 615
        },
        "id": "LTxF92aL1ZPk",
        "outputId": "727e431e-f6d3-44a3-b6ac-e66951f02b6d"
      },
      "outputs": [
        {
          "output_type": "execute_result",
          "data": {
            "text/plain": [
              "                                               Address            Avatar  \\\n",
              "0         835 Frank Tunnel\\nWrightmouth, MI 82180-9605            Violet   \n",
              "1       4547 Archer Common\\nDiazchester, CA 06566-8576              Blue   \n",
              "2    24645 Valerie Unions Suite 582\\nCobbborough, D...            Bisque   \n",
              "3     1414 David Throughway\\nPort Jason, OH 22070-1220       SaddleBrown   \n",
              "4    14023 Rodriguez Passage\\nPort Jacobville, PR 3...  MediumAquaMarine   \n",
              "..                                                 ...               ...   \n",
              "495  4483 Jones Motorway Suite 872\\nLake Jamiefurt,...               Tan   \n",
              "496  172 Owen Divide Suite 497\\nWest Richard, CA 19320     PaleVioletRed   \n",
              "497  0787 Andrews Ranch Apt. 633\\nSouth Chadburgh, ...          Cornsilk   \n",
              "498  680 Jennifer Lodge Apt. 808\\nBrendachester, TX...              Teal   \n",
              "499  49791 Rachel Heights Apt. 898\\nEast Drewboroug...       DarkMagenta   \n",
              "\n",
              "     Avg. Session Length  Time on App  Time on Website  Length of Membership  \\\n",
              "0              34.497268    12.655651        39.577668              4.082621   \n",
              "1              31.926272    11.109461        37.268959              2.664034   \n",
              "2              33.000915    11.330278        37.110597              4.104543   \n",
              "3              34.305557    13.717514        36.721283              3.120179   \n",
              "4              33.330673    12.795189        37.536653              4.446308   \n",
              "..                   ...          ...              ...                   ...   \n",
              "495            33.237660    13.566160        36.417985              3.746573   \n",
              "496            34.702529    11.695736        37.190268              3.576526   \n",
              "497            32.646777    11.499409        38.332576              4.958264   \n",
              "498            33.322501    12.391423        36.840086              2.336485   \n",
              "499            33.715981    12.418808        35.771016              2.735160   \n",
              "\n",
              "     Yearly Amount Spent  \n",
              "0             587.951054  \n",
              "1             392.204933  \n",
              "2             487.547505  \n",
              "3             581.852344  \n",
              "4             599.406092  \n",
              "..                   ...  \n",
              "495           573.847438  \n",
              "496           529.049004  \n",
              "497           551.620145  \n",
              "498           456.469510  \n",
              "499           497.778642  \n",
              "\n",
              "[500 rows x 7 columns]"
            ],
            "text/html": [
              "\n",
              "  <div id=\"df-c2f63672-76fa-4c94-8297-618ba5c2fa59\" class=\"colab-df-container\">\n",
              "    <div>\n",
              "<style scoped>\n",
              "    .dataframe tbody tr th:only-of-type {\n",
              "        vertical-align: middle;\n",
              "    }\n",
              "\n",
              "    .dataframe tbody tr th {\n",
              "        vertical-align: top;\n",
              "    }\n",
              "\n",
              "    .dataframe thead th {\n",
              "        text-align: right;\n",
              "    }\n",
              "</style>\n",
              "<table border=\"1\" class=\"dataframe\">\n",
              "  <thead>\n",
              "    <tr style=\"text-align: right;\">\n",
              "      <th></th>\n",
              "      <th>Address</th>\n",
              "      <th>Avatar</th>\n",
              "      <th>Avg. Session Length</th>\n",
              "      <th>Time on App</th>\n",
              "      <th>Time on Website</th>\n",
              "      <th>Length of Membership</th>\n",
              "      <th>Yearly Amount Spent</th>\n",
              "    </tr>\n",
              "  </thead>\n",
              "  <tbody>\n",
              "    <tr>\n",
              "      <th>0</th>\n",
              "      <td>835 Frank Tunnel\\nWrightmouth, MI 82180-9605</td>\n",
              "      <td>Violet</td>\n",
              "      <td>34.497268</td>\n",
              "      <td>12.655651</td>\n",
              "      <td>39.577668</td>\n",
              "      <td>4.082621</td>\n",
              "      <td>587.951054</td>\n",
              "    </tr>\n",
              "    <tr>\n",
              "      <th>1</th>\n",
              "      <td>4547 Archer Common\\nDiazchester, CA 06566-8576</td>\n",
              "      <td>Blue</td>\n",
              "      <td>31.926272</td>\n",
              "      <td>11.109461</td>\n",
              "      <td>37.268959</td>\n",
              "      <td>2.664034</td>\n",
              "      <td>392.204933</td>\n",
              "    </tr>\n",
              "    <tr>\n",
              "      <th>2</th>\n",
              "      <td>24645 Valerie Unions Suite 582\\nCobbborough, D...</td>\n",
              "      <td>Bisque</td>\n",
              "      <td>33.000915</td>\n",
              "      <td>11.330278</td>\n",
              "      <td>37.110597</td>\n",
              "      <td>4.104543</td>\n",
              "      <td>487.547505</td>\n",
              "    </tr>\n",
              "    <tr>\n",
              "      <th>3</th>\n",
              "      <td>1414 David Throughway\\nPort Jason, OH 22070-1220</td>\n",
              "      <td>SaddleBrown</td>\n",
              "      <td>34.305557</td>\n",
              "      <td>13.717514</td>\n",
              "      <td>36.721283</td>\n",
              "      <td>3.120179</td>\n",
              "      <td>581.852344</td>\n",
              "    </tr>\n",
              "    <tr>\n",
              "      <th>4</th>\n",
              "      <td>14023 Rodriguez Passage\\nPort Jacobville, PR 3...</td>\n",
              "      <td>MediumAquaMarine</td>\n",
              "      <td>33.330673</td>\n",
              "      <td>12.795189</td>\n",
              "      <td>37.536653</td>\n",
              "      <td>4.446308</td>\n",
              "      <td>599.406092</td>\n",
              "    </tr>\n",
              "    <tr>\n",
              "      <th>...</th>\n",
              "      <td>...</td>\n",
              "      <td>...</td>\n",
              "      <td>...</td>\n",
              "      <td>...</td>\n",
              "      <td>...</td>\n",
              "      <td>...</td>\n",
              "      <td>...</td>\n",
              "    </tr>\n",
              "    <tr>\n",
              "      <th>495</th>\n",
              "      <td>4483 Jones Motorway Suite 872\\nLake Jamiefurt,...</td>\n",
              "      <td>Tan</td>\n",
              "      <td>33.237660</td>\n",
              "      <td>13.566160</td>\n",
              "      <td>36.417985</td>\n",
              "      <td>3.746573</td>\n",
              "      <td>573.847438</td>\n",
              "    </tr>\n",
              "    <tr>\n",
              "      <th>496</th>\n",
              "      <td>172 Owen Divide Suite 497\\nWest Richard, CA 19320</td>\n",
              "      <td>PaleVioletRed</td>\n",
              "      <td>34.702529</td>\n",
              "      <td>11.695736</td>\n",
              "      <td>37.190268</td>\n",
              "      <td>3.576526</td>\n",
              "      <td>529.049004</td>\n",
              "    </tr>\n",
              "    <tr>\n",
              "      <th>497</th>\n",
              "      <td>0787 Andrews Ranch Apt. 633\\nSouth Chadburgh, ...</td>\n",
              "      <td>Cornsilk</td>\n",
              "      <td>32.646777</td>\n",
              "      <td>11.499409</td>\n",
              "      <td>38.332576</td>\n",
              "      <td>4.958264</td>\n",
              "      <td>551.620145</td>\n",
              "    </tr>\n",
              "    <tr>\n",
              "      <th>498</th>\n",
              "      <td>680 Jennifer Lodge Apt. 808\\nBrendachester, TX...</td>\n",
              "      <td>Teal</td>\n",
              "      <td>33.322501</td>\n",
              "      <td>12.391423</td>\n",
              "      <td>36.840086</td>\n",
              "      <td>2.336485</td>\n",
              "      <td>456.469510</td>\n",
              "    </tr>\n",
              "    <tr>\n",
              "      <th>499</th>\n",
              "      <td>49791 Rachel Heights Apt. 898\\nEast Drewboroug...</td>\n",
              "      <td>DarkMagenta</td>\n",
              "      <td>33.715981</td>\n",
              "      <td>12.418808</td>\n",
              "      <td>35.771016</td>\n",
              "      <td>2.735160</td>\n",
              "      <td>497.778642</td>\n",
              "    </tr>\n",
              "  </tbody>\n",
              "</table>\n",
              "<p>500 rows × 7 columns</p>\n",
              "</div>\n",
              "    <div class=\"colab-df-buttons\">\n",
              "\n",
              "  <div class=\"colab-df-container\">\n",
              "    <button class=\"colab-df-convert\" onclick=\"convertToInteractive('df-c2f63672-76fa-4c94-8297-618ba5c2fa59')\"\n",
              "            title=\"Convert this dataframe to an interactive table.\"\n",
              "            style=\"display:none;\">\n",
              "\n",
              "  <svg xmlns=\"http://www.w3.org/2000/svg\" height=\"24px\" viewBox=\"0 -960 960 960\">\n",
              "    <path d=\"M120-120v-720h720v720H120Zm60-500h600v-160H180v160Zm220 220h160v-160H400v160Zm0 220h160v-160H400v160ZM180-400h160v-160H180v160Zm440 0h160v-160H620v160ZM180-180h160v-160H180v160Zm440 0h160v-160H620v160Z\"/>\n",
              "  </svg>\n",
              "    </button>\n",
              "\n",
              "  <style>\n",
              "    .colab-df-container {\n",
              "      display:flex;\n",
              "      gap: 12px;\n",
              "    }\n",
              "\n",
              "    .colab-df-convert {\n",
              "      background-color: #E8F0FE;\n",
              "      border: none;\n",
              "      border-radius: 50%;\n",
              "      cursor: pointer;\n",
              "      display: none;\n",
              "      fill: #1967D2;\n",
              "      height: 32px;\n",
              "      padding: 0 0 0 0;\n",
              "      width: 32px;\n",
              "    }\n",
              "\n",
              "    .colab-df-convert:hover {\n",
              "      background-color: #E2EBFA;\n",
              "      box-shadow: 0px 1px 2px rgba(60, 64, 67, 0.3), 0px 1px 3px 1px rgba(60, 64, 67, 0.15);\n",
              "      fill: #174EA6;\n",
              "    }\n",
              "\n",
              "    .colab-df-buttons div {\n",
              "      margin-bottom: 4px;\n",
              "    }\n",
              "\n",
              "    [theme=dark] .colab-df-convert {\n",
              "      background-color: #3B4455;\n",
              "      fill: #D2E3FC;\n",
              "    }\n",
              "\n",
              "    [theme=dark] .colab-df-convert:hover {\n",
              "      background-color: #434B5C;\n",
              "      box-shadow: 0px 1px 3px 1px rgba(0, 0, 0, 0.15);\n",
              "      filter: drop-shadow(0px 1px 2px rgba(0, 0, 0, 0.3));\n",
              "      fill: #FFFFFF;\n",
              "    }\n",
              "  </style>\n",
              "\n",
              "    <script>\n",
              "      const buttonEl =\n",
              "        document.querySelector('#df-c2f63672-76fa-4c94-8297-618ba5c2fa59 button.colab-df-convert');\n",
              "      buttonEl.style.display =\n",
              "        google.colab.kernel.accessAllowed ? 'block' : 'none';\n",
              "\n",
              "      async function convertToInteractive(key) {\n",
              "        const element = document.querySelector('#df-c2f63672-76fa-4c94-8297-618ba5c2fa59');\n",
              "        const dataTable =\n",
              "          await google.colab.kernel.invokeFunction('convertToInteractive',\n",
              "                                                    [key], {});\n",
              "        if (!dataTable) return;\n",
              "\n",
              "        const docLinkHtml = 'Like what you see? Visit the ' +\n",
              "          '<a target=\"_blank\" href=https://colab.research.google.com/notebooks/data_table.ipynb>data table notebook</a>'\n",
              "          + ' to learn more about interactive tables.';\n",
              "        element.innerHTML = '';\n",
              "        dataTable['output_type'] = 'display_data';\n",
              "        await google.colab.output.renderOutput(dataTable, element);\n",
              "        const docLink = document.createElement('div');\n",
              "        docLink.innerHTML = docLinkHtml;\n",
              "        element.appendChild(docLink);\n",
              "      }\n",
              "    </script>\n",
              "  </div>\n",
              "\n",
              "\n",
              "<div id=\"df-c6768d3b-0fc4-4814-bae6-3ce21b5db7d1\">\n",
              "  <button class=\"colab-df-quickchart\" onclick=\"quickchart('df-c6768d3b-0fc4-4814-bae6-3ce21b5db7d1')\"\n",
              "            title=\"Suggest charts.\"\n",
              "            style=\"display:none;\">\n",
              "\n",
              "<svg xmlns=\"http://www.w3.org/2000/svg\" height=\"24px\"viewBox=\"0 0 24 24\"\n",
              "     width=\"24px\">\n",
              "    <g>\n",
              "        <path d=\"M19 3H5c-1.1 0-2 .9-2 2v14c0 1.1.9 2 2 2h14c1.1 0 2-.9 2-2V5c0-1.1-.9-2-2-2zM9 17H7v-7h2v7zm4 0h-2V7h2v10zm4 0h-2v-4h2v4z\"/>\n",
              "    </g>\n",
              "</svg>\n",
              "  </button>\n",
              "\n",
              "<style>\n",
              "  .colab-df-quickchart {\n",
              "      --bg-color: #E8F0FE;\n",
              "      --fill-color: #1967D2;\n",
              "      --hover-bg-color: #E2EBFA;\n",
              "      --hover-fill-color: #174EA6;\n",
              "      --disabled-fill-color: #AAA;\n",
              "      --disabled-bg-color: #DDD;\n",
              "  }\n",
              "\n",
              "  [theme=dark] .colab-df-quickchart {\n",
              "      --bg-color: #3B4455;\n",
              "      --fill-color: #D2E3FC;\n",
              "      --hover-bg-color: #434B5C;\n",
              "      --hover-fill-color: #FFFFFF;\n",
              "      --disabled-bg-color: #3B4455;\n",
              "      --disabled-fill-color: #666;\n",
              "  }\n",
              "\n",
              "  .colab-df-quickchart {\n",
              "    background-color: var(--bg-color);\n",
              "    border: none;\n",
              "    border-radius: 50%;\n",
              "    cursor: pointer;\n",
              "    display: none;\n",
              "    fill: var(--fill-color);\n",
              "    height: 32px;\n",
              "    padding: 0;\n",
              "    width: 32px;\n",
              "  }\n",
              "\n",
              "  .colab-df-quickchart:hover {\n",
              "    background-color: var(--hover-bg-color);\n",
              "    box-shadow: 0 1px 2px rgba(60, 64, 67, 0.3), 0 1px 3px 1px rgba(60, 64, 67, 0.15);\n",
              "    fill: var(--button-hover-fill-color);\n",
              "  }\n",
              "\n",
              "  .colab-df-quickchart-complete:disabled,\n",
              "  .colab-df-quickchart-complete:disabled:hover {\n",
              "    background-color: var(--disabled-bg-color);\n",
              "    fill: var(--disabled-fill-color);\n",
              "    box-shadow: none;\n",
              "  }\n",
              "\n",
              "  .colab-df-spinner {\n",
              "    border: 2px solid var(--fill-color);\n",
              "    border-color: transparent;\n",
              "    border-bottom-color: var(--fill-color);\n",
              "    animation:\n",
              "      spin 1s steps(1) infinite;\n",
              "  }\n",
              "\n",
              "  @keyframes spin {\n",
              "    0% {\n",
              "      border-color: transparent;\n",
              "      border-bottom-color: var(--fill-color);\n",
              "      border-left-color: var(--fill-color);\n",
              "    }\n",
              "    20% {\n",
              "      border-color: transparent;\n",
              "      border-left-color: var(--fill-color);\n",
              "      border-top-color: var(--fill-color);\n",
              "    }\n",
              "    30% {\n",
              "      border-color: transparent;\n",
              "      border-left-color: var(--fill-color);\n",
              "      border-top-color: var(--fill-color);\n",
              "      border-right-color: var(--fill-color);\n",
              "    }\n",
              "    40% {\n",
              "      border-color: transparent;\n",
              "      border-right-color: var(--fill-color);\n",
              "      border-top-color: var(--fill-color);\n",
              "    }\n",
              "    60% {\n",
              "      border-color: transparent;\n",
              "      border-right-color: var(--fill-color);\n",
              "    }\n",
              "    80% {\n",
              "      border-color: transparent;\n",
              "      border-right-color: var(--fill-color);\n",
              "      border-bottom-color: var(--fill-color);\n",
              "    }\n",
              "    90% {\n",
              "      border-color: transparent;\n",
              "      border-bottom-color: var(--fill-color);\n",
              "    }\n",
              "  }\n",
              "</style>\n",
              "\n",
              "  <script>\n",
              "    async function quickchart(key) {\n",
              "      const quickchartButtonEl =\n",
              "        document.querySelector('#' + key + ' button');\n",
              "      quickchartButtonEl.disabled = true;  // To prevent multiple clicks.\n",
              "      quickchartButtonEl.classList.add('colab-df-spinner');\n",
              "      try {\n",
              "        const charts = await google.colab.kernel.invokeFunction(\n",
              "            'suggestCharts', [key], {});\n",
              "      } catch (error) {\n",
              "        console.error('Error during call to suggestCharts:', error);\n",
              "      }\n",
              "      quickchartButtonEl.classList.remove('colab-df-spinner');\n",
              "      quickchartButtonEl.classList.add('colab-df-quickchart-complete');\n",
              "    }\n",
              "    (() => {\n",
              "      let quickchartButtonEl =\n",
              "        document.querySelector('#df-c6768d3b-0fc4-4814-bae6-3ce21b5db7d1 button');\n",
              "      quickchartButtonEl.style.display =\n",
              "        google.colab.kernel.accessAllowed ? 'block' : 'none';\n",
              "    })();\n",
              "  </script>\n",
              "</div>\n",
              "    </div>\n",
              "  </div>\n"
            ]
          },
          "metadata": {},
          "execution_count": 19
        }
      ],
      "source": [
        "# Steps in ML\n",
        "# 1. Data Acquisition - Getting Data, CSV, database\n",
        "# 2. Data Preparation - Cleaning\n",
        "# 3. Modeling\n",
        "# 4. Training\n",
        "# 5. Testing***\n",
        "# 6. Metrics/Performance\n",
        "# 7. Feedback - It is ok, we retrain\n",
        "# 8. Implementation.\n",
        "\n",
        "# Step 1: Data Acquisition\n",
        "import pandas\n",
        "data = pandas.read_csv(\"https://modcom.co.ke/datasets/Customers.csv\")\n",
        "data"
      ]
    },
    {
      "cell_type": "code",
      "execution_count": null,
      "metadata": {
        "colab": {
          "base_uri": "https://localhost:8080/"
        },
        "id": "Yf_fjNnw43iI",
        "outputId": "a3c6f2d6-d9ff-4986-b750-7a19d16f58b5"
      },
      "outputs": [
        {
          "output_type": "execute_result",
          "data": {
            "text/plain": [
              "Address                 0\n",
              "Avatar                  0\n",
              "Avg. Session Length     0\n",
              "Time on App             0\n",
              "Time on Website         0\n",
              "Length of Membership    0\n",
              "Yearly Amount Spent     0\n",
              "dtype: int64"
            ]
          },
          "metadata": {},
          "execution_count": 20
        }
      ],
      "source": [
        "# Check empties\n",
        "# ML doesn't work with empties\n",
        "# ML doesn't have letters, symbols\n",
        "data.isnull().sum()"
      ]
    },
    {
      "cell_type": "code",
      "source": [
        "data.shape"
      ],
      "metadata": {
        "colab": {
          "base_uri": "https://localhost:8080/"
        },
        "id": "PMl0lzufUx8_",
        "outputId": "9f011e09-4920-409a-fe88-b4f80fbc36ca"
      },
      "execution_count": null,
      "outputs": [
        {
          "output_type": "execute_result",
          "data": {
            "text/plain": [
              "(500, 7)"
            ]
          },
          "metadata": {},
          "execution_count": 21
        }
      ]
    },
    {
      "cell_type": "code",
      "source": [
        "import pandas as pd\n",
        "\n",
        "# Assuming you've loaded your data into a DataFrame named 'df'\n",
        "# Drop 'Avatar' and 'Address' columns\n",
        "# Check if columns exist before dropping\n",
        "columns_to_drop = ['Avatar', 'Address']\n",
        "for col in columns_to_drop:\n",
        "    if col in data.columns:\n",
        "        data = data.drop(columns=col)\n",
        "\n",
        "# Display the updated DataFrame\n",
        "print(data.head())\n",
        "\n",
        "# # Display the updated DataFrame\n",
        "# print(data.head())\n",
        "data.shape\n"
      ],
      "metadata": {
        "colab": {
          "base_uri": "https://localhost:8080/"
        },
        "id": "enYcHLHmU4b7",
        "outputId": "7529eb51-d393-41cf-fb2d-d5abf4e7aca3"
      },
      "execution_count": null,
      "outputs": [
        {
          "output_type": "stream",
          "name": "stdout",
          "text": [
            "   Avg. Session Length  Time on App  Time on Website  Length of Membership  \\\n",
            "0            34.497268    12.655651        39.577668              4.082621   \n",
            "1            31.926272    11.109461        37.268959              2.664034   \n",
            "2            33.000915    11.330278        37.110597              4.104543   \n",
            "3            34.305557    13.717514        36.721283              3.120179   \n",
            "4            33.330673    12.795189        37.536653              4.446308   \n",
            "\n",
            "   Yearly Amount Spent  \n",
            "0           587.951054  \n",
            "1           392.204933  \n",
            "2           487.547505  \n",
            "3           581.852344  \n",
            "4           599.406092  \n"
          ]
        },
        {
          "output_type": "execute_result",
          "data": {
            "text/plain": [
              "(500, 5)"
            ]
          },
          "metadata": {},
          "execution_count": 34
        }
      ]
    },
    {
      "cell_type": "code",
      "execution_count": null,
      "metadata": {
        "colab": {
          "base_uri": "https://localhost:8080/"
        },
        "id": "UYh00HQg6syf",
        "outputId": "09d1710d-aaa6-4c79-fd35-6d291d2fd3e1"
      },
      "outputs": [
        {
          "output_type": "execute_result",
          "data": {
            "text/plain": [
              "array([[34.49726773, 12.65565115, 39.57766802,  4.08262063],\n",
              "       [31.92627203, 11.10946073, 37.26895887,  2.66403418],\n",
              "       [33.00091476, 11.33027806, 37.11059744,  4.1045432 ],\n",
              "       ...,\n",
              "       [32.64677668, 11.49940906, 38.33257633,  4.95826447],\n",
              "       [33.32250105, 12.39142299, 36.84008573,  2.33648467],\n",
              "       [33.71598092, 12.41880832, 35.77101619,  2.73515957]])"
            ]
          },
          "metadata": {},
          "execution_count": 23
        }
      ],
      "source": [
        "# 3a. Modeling/Algorithm\n",
        "array =data.values\n",
        "array\n",
        "X = array[:,0:4] # TV, Radio, News Paper Columns. All Rows\n",
        "Y = array[:,4]\n",
        "# X are the features/inputs/Predictors\n",
        "# Y is the target/output/predicted\n",
        "X"
      ]
    },
    {
      "cell_type": "code",
      "execution_count": null,
      "metadata": {
        "colab": {
          "base_uri": "https://localhost:8080/"
        },
        "id": "FJeUeRjO8n0Y",
        "outputId": "e5fe8b16-45f4-4afc-977c-312cb63b6e99"
      },
      "outputs": [
        {
          "output_type": "execute_result",
          "data": {
            "text/plain": [
              "array([[33.87103788, 12.02692534, 37.08792607,  5.4935072 ],\n",
              "       [33.9257949 , 12.01102188, 36.70105232,  2.75342417],\n",
              "       [34.55576799, 12.17052542, 39.13109673,  3.66310549],\n",
              "       ...,\n",
              "       [31.81248256, 10.88692118, 34.89782769,  3.12863886],\n",
              "       [32.25997327, 14.13289346, 37.02347924,  3.76207044],\n",
              "       [32.42569728, 11.44890154, 37.58019043,  2.58696799]])"
            ]
          },
          "metadata": {},
          "execution_count": 25
        }
      ],
      "source": [
        "# 3b Training Data and Testing Data\n",
        "from sklearn import model_selection\n",
        "X_train, X_test, Y_train, Y_test = model_selection.train_test_split(X,Y, test_size = 0.3, random_state = 42)\n",
        "X_train"
      ]
    },
    {
      "cell_type": "code",
      "source": [
        "# Cross Validation of Models\n",
        "from sklearn.linear_model import LinearRegression\n",
        "from sklearn.ensemble import GradientBoostingRegressor\n",
        "from sklearn.ensemble import RandomForestRegressor\n",
        "from sklearn.tree import DecisionTreeRegressor\n",
        "from sklearn.svm import SVR\n",
        "from sklearn.neighbors import KNeighborsRegressor\n",
        "\n",
        "models = []\n",
        "models.append(('LR', LinearRegression()))\n",
        "models.append(('GBR', GradientBoostingRegressor()))\n",
        "models.append(('RFR', RandomForestRegressor()))\n",
        "models.append(('DTR', DecisionTreeRegressor()))\n",
        "models.append(('SVR', SVR()))\n",
        "models.append(('KNN', KNeighborsRegressor()))\n",
        "models\n",
        "\n",
        "for name,model in models:\n",
        "  kfold = model_selection.KFold(n_splits =10,random_state=42,shuffle=True) # 10 Folds each fold will have 14\n",
        "  cv_results= model_selection.cross_val_score(model,X_train,Y_train,cv=kfold,scoring=\"r2\") # do severally\n",
        "  print(name,cv_results.mean()) #Get mean since there were many folds"
      ],
      "metadata": {
        "colab": {
          "base_uri": "https://localhost:8080/"
        },
        "id": "aMDDJ9zn9QM_",
        "outputId": "3580fcb8-828b-4659-b49d-520e966b0532"
      },
      "execution_count": null,
      "outputs": [
        {
          "output_type": "stream",
          "name": "stdout",
          "text": [
            "LR 0.9836511783019499\n",
            "GBR 0.9534174329479624\n",
            "RFR 0.9259604811714658\n",
            "DTR 0.8351932444922248\n",
            "SVR -0.027801619810937574\n",
            "KNN 0.8808046213747683\n"
          ]
        }
      ]
    },
    {
      "cell_type": "code",
      "execution_count": null,
      "metadata": {
        "colab": {
          "base_uri": "https://localhost:8080/"
        },
        "id": "K9fZIZUq_dAs",
        "outputId": "904bfc27-6789-4e23-a7a9-20ec3a07a222"
      },
      "outputs": [
        {
          "output_type": "stream",
          "name": "stdout",
          "text": [
            "Training...\n"
          ]
        }
      ],
      "source": [
        "# 4. Training\n",
        "from sklearn.linear_model import LinearRegression\n",
        "model =LinearRegression()\n",
        "model.fit(X_train,Y_train) # 98%\n",
        "print(\"Training...\")\n",
        "# We now have a knowledgeable Model\n"
      ]
    },
    {
      "cell_type": "code",
      "source": [
        "# 4. Testing\n",
        "from sklearn.metrics import r2_score\n",
        "#n5 Testing, Hide_Y_test, Predict_X_test\n",
        "predictions = model.predict(X_test)\n",
        "print(\"Model Predicts Sales\",predictions)\n",
        "print(\"Y Test Sales\", Y_test)\n",
        "print(\"R Squared\",r2_score(Y_test,predictions))"
      ],
      "metadata": {
        "colab": {
          "base_uri": "https://localhost:8080/"
        },
        "id": "OIdX44Et6Qhk",
        "outputId": "a00897f8-b608-4de1-bff6-52599994a40e"
      },
      "execution_count": null,
      "outputs": [
        {
          "output_type": "stream",
          "name": "stdout",
          "text": [
            "Model Predicts Sales [403.63035357 542.57356235 427.04008269 502.02467626 410.10188374\n",
            " 569.90921263 531.94985563 506.28085039 408.70862395 473.95914658\n",
            " 441.46777651 425.32203795 425.16025146 527.61684987 431.43833575\n",
            " 424.09072091 575.77332672 484.91356248 458.35701207 481.95923783\n",
            " 502.30706513 513.63519881 507.58273109 646.55027397 450.24996524\n",
            " 496.29485514 556.36826583 554.96495812 399.63814263 325.86107649\n",
            " 532.89922269 478.09811434 501.05639134 305.99004071 505.76262096\n",
            " 483.81417428 518.85917527 438.19817337 456.69685196 471.03646117\n",
            " 494.44933373 445.31075902 508.79663741 501.04267972 488.8052585\n",
            " 535.39027551 595.14599044 514.03870978 280.7476436  433.08089011\n",
            " 421.6873266  481.22728695 584.66849887 608.73407254 563.99385868\n",
            " 494.75457979 394.53155065 456.41369099 573.10100035 499.6668291\n",
            " 512.81853202 392.13333758 480.03165061 481.54168761 475.11216172\n",
            " 546.27720212 430.8547356  602.14772816 422.3812221  493.56413482\n",
            " 528.73904919 581.46440293 620.18410421 512.56502578 411.77331635\n",
            " 498.48265865 461.51781574 446.35719262 448.08936751 535.43109081\n",
            " 599.44071821 619.33095487 494.17241254 672.00552717 532.45764979\n",
            " 438.89623806 515.02197642 546.76470734 331.96720111 510.5113024\n",
            " 536.5602389  500.16038853 376.91993509 573.72788774 479.69167159\n",
            " 588.58296556 485.69794572 456.37313117 399.24457112 451.52823547\n",
            " 519.40412041 434.7274568  596.1244901  487.92401073 407.45518863\n",
            " 524.13161269 504.11358899 452.09473895 524.21501231 457.58634392\n",
            " 444.20195837 457.80205127 448.72506807 438.30649972 677.01398467\n",
            " 566.05872769 651.92041515 381.09540234 577.56241553 578.34687588\n",
            " 518.59380126 538.90663547 377.42180153 663.29286896 523.82237352\n",
            " 456.85662788 446.0799403  388.52313467 521.0328844  431.9797621\n",
            " 460.09946338 426.31605748 433.31201433 634.89707952 462.41618532\n",
            " 460.72480758 512.51336437 703.79956714 411.82331492 551.53032757\n",
            " 553.3609438  409.70616612 423.32890341 509.66513268 509.90452472\n",
            " 543.64976648 504.31119611 519.14974042 520.03784051 535.13352809]\n",
            "Y Test Sales [401.03313522 534.7771881  418.6027421  503.97837905 410.06961106\n",
            " 557.60826205 538.94197453 514.33655827 408.62018783 475.01540709\n",
            " 427.1993849  434.02169975 411.18696357 533.51493526 447.3690272\n",
            " 407.54216801 573.84743772 497.5866713  466.42119882 467.80092437\n",
            " 510.40138845 510.50147847 511.97985999 640.5840619  444.2859075\n",
            " 502.77107457 551.62014548 548.51852928 390.10327297 330.59444603\n",
            " 535.32161009 478.60091594 499.14015245 298.76200786 487.54750487\n",
            " 498.63559849 512.16586639 444.96655165 468.6684656  483.15972078\n",
            " 474.53232944 439.07476674 515.50247966 485.92313052 491.07322368\n",
            " 544.77986372 587.95105397 522.33740461 275.91842065 436.51560573\n",
            " 418.1500811  493.71919298 573.30622226 608.27181662 545.94549214\n",
            " 483.67330802 424.18549429 452.31567548 568.71757593 488.78606109\n",
            " 510.66179222 376.49684072 473.36049557 479.24741678 475.75906779\n",
            " 537.84619527 436.72055586 593.91500297 421.32663126 503.17508519\n",
            " 532.12744911 592.6884532  616.66028602 503.21739312 404.82452887\n",
            " 494.68715581 479.17285149 451.57568516 438.30370785 543.13262629\n",
            " 595.80381888 596.43017262 487.55545806 666.12559173 542.41247673\n",
            " 449.07031944 517.16513559 532.72480546 319.9288698  530.36246889\n",
            " 547.19074935 469.38314617 384.32605714 559.19904795 475.0716299\n",
            " 593.15640148 487.37930602 478.71935687 392.99225591 461.7807422\n",
            " 518.78648309 434.14420203 605.0610388  478.2621264  424.2028271\n",
            " 520.89879445 489.9080531  436.28349815 533.04006018 452.627255\n",
            " 433.0487691  461.11224843 443.44186006 423.17999168 689.23569976\n",
            " 560.44379217 647.61945573 376.33690076 593.07724134 591.19717818\n",
            " 519.3729768  532.71748568 368.65478495 657.01992394 512.55253436\n",
            " 461.92087689 438.41774201 392.49739919 516.83155668 445.06218551\n",
            " 447.68790654 422.42677588 424.72877393 628.04780393 448.93329321\n",
            " 453.16950235 505.11963753 700.91709162 407.70454755 567.47501053\n",
            " 553.60153468 412.0129313  402.16712222 514.08895775 503.38788729\n",
            " 554.00309343 519.34098913 502.4097853  514.00981785 530.76671865]\n",
            "R Squared 0.9808790612177731\n"
          ]
        }
      ]
    },
    {
      "cell_type": "code",
      "execution_count": null,
      "metadata": {
        "colab": {
          "base_uri": "https://localhost:8080/"
        },
        "id": "Fd_y6jzVCKHt",
        "outputId": "e41cc60c-ec9a-44dd-a757-ca363e6dbe0d"
      },
      "outputs": [
        {
          "output_type": "stream",
          "name": "stdout",
          "text": [
            "You will spend [551.69807654] Ksh\n"
          ]
        }
      ],
      "source": [
        "# 8. Implementation\n",
        "# Can the untested model try to predict Amount Spent we can make?\n",
        "amount_spent = [[34,12,39,4]]\n",
        "output = model.predict(amount_spent)\n",
        "print(\"You will spend\",output,\"Ksh\")\n",
        "# 0729225710\n",
        "# Y = f(x) + e\n",
        "# where Y is Sales\n",
        "# where X is TV"
      ]
    },
    {
      "cell_type": "code",
      "source": [
        "# Plot Linear\n",
        "import matplotlib.pyplot as plt\n",
        "plt.scatter(predictions,Y_test)\n",
        "plt.plot(Y_test,Y_test)\n",
        "plt.title(\"Regression Line\")\n",
        "plt.ylabel(\"Predictions\")\n",
        "plt.xlabel(\"Y Test\")\n",
        "plt.show()"
      ],
      "metadata": {
        "colab": {
          "base_uri": "https://localhost:8080/",
          "height": 472
        },
        "id": "GKLDaSk5I_FN",
        "outputId": "850e9a9e-d0b9-4438-c85e-15c24b026411"
      },
      "execution_count": null,
      "outputs": [
        {
          "output_type": "display_data",
          "data": {
            "text/plain": [
              "<Figure size 640x480 with 1 Axes>"
            ],
            "image/png": "[encoded data removed]"
          },
          "metadata": {}
        }
      ]
    }
  ]
}